{
  "nbformat": 4,
  "nbformat_minor": 0,
  "metadata": {
    "kernelspec": {
      "language": "python",
      "display_name": "Python 3",
      "name": "python3"
    },
    "language_info": {
      "pygments_lexer": "ipython3",
      "nbconvert_exporter": "python",
      "version": "3.6.4",
      "file_extension": ".py",
      "codemirror_mode": {
        "name": "ipython",
        "version": 3
      },
      "name": "python",
      "mimetype": "text/x-python"
    },
    "colab": {
      "name": "incident impact prediction.ipynb",
      "provenance": [],
      "include_colab_link": true
    }
  },
  "cells": [
    {
      "cell_type": "markdown",
      "metadata": {
        "id": "view-in-github",
        "colab_type": "text"
      },
      "source": [
        "<a href=\"https://colab.research.google.com/github/rahulr2k/incidentimpact/blob/master/incident_impact_prediction.ipynb\" target=\"_parent\"><img src=\"https://colab.research.google.com/assets/colab-badge.svg\" alt=\"Open In Colab\"/></a>"
      ]
    },
    {
      "cell_type": "code",
      "metadata": {
        "_uuid": "d629ff2d2480ee46fbb7e2d37f6b5fab8052498a",
        "_cell_guid": "79c7e3d0-c299-4dcb-8224-4455121ee9b0",
        "trusted": true,
        "id": "b0WREu45g6Kz",
        "colab_type": "code",
        "colab": {}
      },
      "source": [
        "!pip install ludwig\n",
        "import numpy as np # linear algebra\n",
        "import pandas as pd # data processing, CSV file I/O (e.g. pd.read_csv)\n",
        "import yaml\n",
        "import logging\n",
        "from ludwig.api import LudwigModel"
      ],
      "execution_count": 0,
      "outputs": []
    },
    {
      "cell_type": "code",
      "metadata": {
        "trusted": true,
        "id": "UeaXGzE6g6K9",
        "colab_type": "code",
        "colab": {}
      },
      "source": [
        "training_dataframe = pd.read_csv('/kaggle/input/incident-impact-prediction/train.csv')"
      ],
      "execution_count": 0,
      "outputs": []
    },
    {
      "cell_type": "code",
      "metadata": {
        "trusted": true,
        "id": "nIygsBSOg6LH",
        "colab_type": "code",
        "colab": {}
      },
      "source": [
        "training_dataframe.info()"
      ],
      "execution_count": 0,
      "outputs": []
    },
    {
      "cell_type": "code",
      "metadata": {
        "trusted": true,
        "id": "L_-kQfMDg6LP",
        "colab_type": "code",
        "colab": {}
      },
      "source": [
        "UCI_yaml = \"\"\"\n",
        "input_features:\n",
        "    -\n",
        "        name: active\n",
        "        type: binary\n",
        "    -\n",
        "        name: count_reassign\n",
        "        type: numerical\n",
        "    -\n",
        "        name: count_opening\n",
        "        type: numerical\n",
        "    -\n",
        "        name: count_updated\n",
        "        type: numerical    \n",
        "    -\n",
        "        name: ID_caller\n",
        "        type: category\n",
        "    -\n",
        "        name: opened_by\n",
        "        type: category    \n",
        "    -\n",
        "        name: opened_time\n",
        "        type: category\n",
        "    -\n",
        "        name: Created_by\n",
        "        type: category    \n",
        "    -\n",
        "        name: created_at\n",
        "        type: category\n",
        "    -\n",
        "        name: updated_by\n",
        "        type: category    \n",
        "    -\n",
        "        name: updated_at\n",
        "        type: category\n",
        "    -\n",
        "        name: type_contact\n",
        "        type: category\n",
        "    -\n",
        "        name: location\n",
        "        type: category\n",
        "    -\n",
        "        name: category_ID\n",
        "        type: category\n",
        "    -\n",
        "        name: user_symptom\n",
        "        type: category\n",
        "    -\n",
        "        name: Support_group\n",
        "        type: category   \n",
        "    -\n",
        "        name: support_incharge\n",
        "        type: category\n",
        "    -\n",
        "        name: Doc_knowledge\n",
        "        type: binary    \n",
        "    -\n",
        "        name: confirmation_check\n",
        "        type: binary\n",
        "    -\n",
        "        name: notify\n",
        "        type: category    \n",
        "\n",
        "\n",
        "output_features:\n",
        "    -\n",
        "        name: impact\n",
        "        type: category\n",
        "\"\"\"\n",
        "\n",
        "# train a model\n",
        "model_definition = yaml.load(UCI_yaml)\n",
        "print(yaml.dump(model_definition))\n",
        "model = LudwigModel(model_definition)\n",
        "print(\"training...\")\n",
        "train_stats = model.train(training_dataframe, logging_level=logging.INFO)\n",
        "print(\"finished training.\\n\")"
      ],
      "execution_count": 0,
      "outputs": []
    },
    {
      "cell_type": "code",
      "metadata": {
        "trusted": true,
        "id": "97m15XY7g6LZ",
        "colab_type": "code",
        "colab": {}
      },
      "source": [
        "train_stats"
      ],
      "execution_count": 0,
      "outputs": []
    },
    {
      "cell_type": "code",
      "metadata": {
        "trusted": true,
        "id": "h-qbWocSg6Ll",
        "colab_type": "code",
        "colab": {}
      },
      "source": [
        "trainval = training_dataframe.drop([\"impact\",],axis = 1)"
      ],
      "execution_count": 0,
      "outputs": []
    },
    {
      "cell_type": "code",
      "metadata": {
        "trusted": true,
        "id": "cn6WeUU7g6Lu",
        "colab_type": "code",
        "colab": {}
      },
      "source": [
        "trainval"
      ],
      "execution_count": 0,
      "outputs": []
    },
    {
      "cell_type": "code",
      "metadata": {
        "trusted": true,
        "id": "G-F4oHu_g6L5",
        "colab_type": "code",
        "colab": {}
      },
      "source": [
        "trainpred=model.predict(trainval)"
      ],
      "execution_count": 0,
      "outputs": []
    },
    {
      "cell_type": "code",
      "metadata": {
        "trusted": true,
        "id": "HvIlngeLg6MC",
        "colab_type": "code",
        "colab": {}
      },
      "source": [
        "from sklearn.metrics import classification_report\n",
        "print (classification_report(training_dataframe.impact, trainpred.impact_predictions))"
      ],
      "execution_count": 0,
      "outputs": []
    },
    {
      "cell_type": "code",
      "metadata": {
        "trusted": true,
        "id": "KruD3g2yg6ML",
        "colab_type": "code",
        "colab": {}
      },
      "source": [
        "test = pd.read_csv(\"/kaggle/input/incident-impact-prediction/test.csv\")\n",
        "test.info()"
      ],
      "execution_count": 0,
      "outputs": []
    },
    {
      "cell_type": "code",
      "metadata": {
        "trusted": true,
        "id": "4EZ71tHyg6MT",
        "colab_type": "code",
        "colab": {}
      },
      "source": [
        "testpred=model.predict(test)"
      ],
      "execution_count": 0,
      "outputs": []
    },
    {
      "cell_type": "code",
      "metadata": {
        "trusted": true,
        "id": "2qtL5WrPg6Mb",
        "colab_type": "code",
        "colab": {}
      },
      "source": [
        "testpred.impact_predictions.value_counts()"
      ],
      "execution_count": 0,
      "outputs": []
    },
    {
      "cell_type": "code",
      "metadata": {
        "trusted": true,
        "id": "15pTFUwtg6Mj",
        "colab_type": "code",
        "colab": {}
      },
      "source": [
        "#Save Prediciton\n",
        "ss = pd.DataFrame(zip([x for x in range(1, len(testpred.impact_predictions)+1)], testpred.impact_predictions), columns=['ID', 'prediction1'])\n",
        "print(ss.shape)\n",
        "ss.to_csv('submission5.csv', index=False)"
      ],
      "execution_count": 0,
      "outputs": []
    },
    {
      "cell_type": "code",
      "metadata": {
        "trusted": true,
        "id": "Uude5Eh3g6Mr",
        "colab_type": "code",
        "colab": {}
      },
      "source": [
        "ss.prediction1.value_counts()"
      ],
      "execution_count": 0,
      "outputs": []
    },
    {
      "cell_type": "code",
      "metadata": {
        "trusted": true,
        "id": "wm8AjFBqg6M3",
        "colab_type": "code",
        "colab": {}
      },
      "source": [
        "# import the modules we'll need\n",
        "from IPython.display import HTML\n",
        "import pandas as pd\n",
        "import numpy as np\n",
        "import base64\n",
        "\n",
        "# function that takes in a dataframe and creates a text link to  \n",
        "# download it (will only work for files < 2MB or so)\n",
        "def create_download_link(df, title = \"Download CSV file\", filename = \"data.csv\"):  \n",
        "    csv = df.to_csv()\n",
        "    b64 = base64.b64encode(csv.encode())\n",
        "    payload = b64.decode()\n",
        "    html = '<a download=\"{filename}\" href=\"data:text/csv;base64,{payload}\" target=\"_blank\">{title}</a>'\n",
        "    html = html.format(payload=payload,title=title,filename=filename)\n",
        "    return HTML(html)\n",
        "\n",
        "# create a random sample dataframe\n",
        "\n",
        "\n",
        "# create a link to download the dataframe\n",
        "create_download_link(ss)"
      ],
      "execution_count": 0,
      "outputs": []
    }
  ]
}